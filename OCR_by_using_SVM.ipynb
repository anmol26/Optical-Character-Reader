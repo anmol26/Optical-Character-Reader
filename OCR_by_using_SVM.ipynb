{
  "nbformat": 4,
  "nbformat_minor": 0,
  "metadata": {
    "colab": {
      "name": "OCR by using SVM.ipynb",
      "provenance": [],
      "collapsed_sections": [],
      "toc_visible": true
    },
    "kernelspec": {
      "name": "python3",
      "display_name": "Python 3"
    },
    "language_info": {
      "name": "python"
    }
  },
  "cells": [
    {
      "cell_type": "markdown",
      "metadata": {
        "id": "lTo3h6-sNcRy"
      },
      "source": [
        "#                                                       MINI PROJECT-2 ( OCR using Support Vector Machine )\n",
        "**Group Members:**\n",
        "\n",
        "-*Anmol Khandelwal*\n",
        "\n",
        "-*Aryan Mangla*\n",
        "\n",
        "-*Devashish Singh*\n",
        "\n",
        "---\n",
        "\n",
        "\n",
        "\n",
        "---\n",
        "\n",
        "\n",
        "\n"
      ]
    },
    {
      "cell_type": "code",
      "metadata": {
        "id": "4ZpQZVSZxr73"
      },
      "source": [
        "# Import the required Libraries\n",
        "import pandas as pd                            #allows importing data from various file formats like CSV, JSON, SQL\n",
        "import numpy as np                             #used for working with arrays\n",
        "from sklearn.svm import SVC                    #Sklearn features various classification, regression & clustering algorithms including SVM     \n",
        "                                               #SVC (Support Vector Classifier)\n",
        "\n",
        "import matplotlib.pyplot as plt                #plotting library\n",
        "import seaborn as sns                          #Seaborn contains a few plots and patterns for data visualisation, while\n",
        "                                               #in matplotlib,datasets are visualised with the assistance of lines, \n",
        "                                               #scatter plots, pie charts, histograms, bar-graphs, etc\n",
        "\n",
        "from sklearn.model_selection import train_test_split  #for splitting data arrays into two subsets:-\n",
        "                                                      #for training data and for testing data\n",
        "\n",
        "from sklearn.metrics import confusion_matrix   #Compute confusion matrix to evaluate the accuracy of a classification\n",
        "from sklearn import metrics                    #In multilabel classification, this function computes subset accuracy\n",
        "\n",
        "from sklearn.preprocessing import MinMaxScaler #Transform features by scaling each feature to a given range.B/W 0 & 1 by default \n",
        "                                               #preserves the shape of the original distribution"
      ],
      "execution_count": 2,
      "outputs": []
    },
    {
      "cell_type": "code",
      "metadata": {
        "colab": {
          "base_uri": "https://localhost:8080/",
          "height": 137
        },
        "id": "6w-i1mUyyLsi",
        "outputId": "e055b5cb-0d6c-47cf-dde7-b1b395ab528b"
      },
      "source": [
        "#Read dataset \"letter-recognition.csv\"\n",
        "letters = pd.read_csv('letter-recognition.csv')\n",
        "\n",
        "\"\"\"\n",
        "1. letter capital letter (26 values from A to Z)\n",
        "2. xbox horizontal position of box (integer)\n",
        "3. ybox vertical position of box (integer)\n",
        "4. width width of box (integer)\n",
        "5. hight height of box (integer)\n",
        "6. onpix total # on pixels (integer)\n",
        "7. xbar mean x of on pixels in box (integer)\n",
        "8. ybar mean y of on pixels in box (integer)\n",
        "9. x2bar mean x variance (integer)\n",
        "10. y2bar mean y variance (integer)\n",
        "11. xybar mean x y correlation (integer)\n",
        "12. x2ybar mean of x * x * y (integer)\n",
        "13. xy2bar mean of x * y * y (integer)\n",
        "14. xedge mean edge count left to right (integer)\n",
        "15. xedgey correlation of xedge with y (integer)\n",
        "16. yedge mean edge count bottom to top (integer)\n",
        "17. yedgex correlation of yedge with x (integer)\n",
        "\"\"\""
      ],
      "execution_count": 3,
      "outputs": [
        {
          "output_type": "execute_result",
          "data": {
            "application/vnd.google.colaboratory.intrinsic+json": {
              "type": "string"
            },
            "text/plain": [
              "'\\n1. letter capital letter (26 values from A to Z)\\n2. xbox horizontal position of box (integer)\\n3. ybox vertical position of box (integer)\\n4. width width of box (integer)\\n5. hight height of box (integer)\\n6. onpix total # on pixels (integer)\\n7. xbar mean x of on pixels in box (integer)\\n8. ybar mean y of on pixels in box (integer)\\n9. x2bar mean x variance (integer)\\n10. y2bar mean y variance (integer)\\n11. xybar mean x y correlation (integer)\\n12. x2ybar mean of x * x * y (integer)\\n13. xy2bar mean of x * y * y (integer)\\n14. xedge mean edge count left to right (integer)\\n15. xedgey correlation of xedge with y (integer)\\n16. yedge mean edge count bottom to top (integer)\\n17. yedgex correlation of yedge with x (integer)\\n'"
            ]
          },
          "metadata": {
            "tags": []
          },
          "execution_count": 3
        }
      ]
    },
    {
      "cell_type": "code",
      "metadata": {
        "colab": {
          "base_uri": "https://localhost:8080/",
          "height": 204
        },
        "id": "QH-yC4cxyL-g",
        "outputId": "46a43038-4aeb-40df-c37d-2746648ba5f9"
      },
      "source": [
        "#first 5 row from data\n",
        "letters.head()"
      ],
      "execution_count": 4,
      "outputs": [
        {
          "output_type": "execute_result",
          "data": {
            "text/html": [
              "<div>\n",
              "<style scoped>\n",
              "    .dataframe tbody tr th:only-of-type {\n",
              "        vertical-align: middle;\n",
              "    }\n",
              "\n",
              "    .dataframe tbody tr th {\n",
              "        vertical-align: top;\n",
              "    }\n",
              "\n",
              "    .dataframe thead th {\n",
              "        text-align: right;\n",
              "    }\n",
              "</style>\n",
              "<table border=\"1\" class=\"dataframe\">\n",
              "  <thead>\n",
              "    <tr style=\"text-align: right;\">\n",
              "      <th></th>\n",
              "      <th>letter</th>\n",
              "      <th>xbox</th>\n",
              "      <th>ybox</th>\n",
              "      <th>width</th>\n",
              "      <th>height</th>\n",
              "      <th>onpix</th>\n",
              "      <th>xbar</th>\n",
              "      <th>ybar</th>\n",
              "      <th>x2bar</th>\n",
              "      <th>y2bar</th>\n",
              "      <th>xybar</th>\n",
              "      <th>x2ybar</th>\n",
              "      <th>xy2bar</th>\n",
              "      <th>xedge</th>\n",
              "      <th>xedgey</th>\n",
              "      <th>yedge</th>\n",
              "      <th>yedgex</th>\n",
              "    </tr>\n",
              "  </thead>\n",
              "  <tbody>\n",
              "    <tr>\n",
              "      <th>0</th>\n",
              "      <td>T</td>\n",
              "      <td>2</td>\n",
              "      <td>8</td>\n",
              "      <td>3</td>\n",
              "      <td>5</td>\n",
              "      <td>1</td>\n",
              "      <td>8</td>\n",
              "      <td>13</td>\n",
              "      <td>0</td>\n",
              "      <td>6</td>\n",
              "      <td>6</td>\n",
              "      <td>10</td>\n",
              "      <td>8</td>\n",
              "      <td>0</td>\n",
              "      <td>8</td>\n",
              "      <td>0</td>\n",
              "      <td>8</td>\n",
              "    </tr>\n",
              "    <tr>\n",
              "      <th>1</th>\n",
              "      <td>I</td>\n",
              "      <td>5</td>\n",
              "      <td>12</td>\n",
              "      <td>3</td>\n",
              "      <td>7</td>\n",
              "      <td>2</td>\n",
              "      <td>10</td>\n",
              "      <td>5</td>\n",
              "      <td>5</td>\n",
              "      <td>4</td>\n",
              "      <td>13</td>\n",
              "      <td>3</td>\n",
              "      <td>9</td>\n",
              "      <td>2</td>\n",
              "      <td>8</td>\n",
              "      <td>4</td>\n",
              "      <td>10</td>\n",
              "    </tr>\n",
              "    <tr>\n",
              "      <th>2</th>\n",
              "      <td>D</td>\n",
              "      <td>4</td>\n",
              "      <td>11</td>\n",
              "      <td>6</td>\n",
              "      <td>8</td>\n",
              "      <td>6</td>\n",
              "      <td>10</td>\n",
              "      <td>6</td>\n",
              "      <td>2</td>\n",
              "      <td>6</td>\n",
              "      <td>10</td>\n",
              "      <td>3</td>\n",
              "      <td>7</td>\n",
              "      <td>3</td>\n",
              "      <td>7</td>\n",
              "      <td>3</td>\n",
              "      <td>9</td>\n",
              "    </tr>\n",
              "    <tr>\n",
              "      <th>3</th>\n",
              "      <td>N</td>\n",
              "      <td>7</td>\n",
              "      <td>11</td>\n",
              "      <td>6</td>\n",
              "      <td>6</td>\n",
              "      <td>3</td>\n",
              "      <td>5</td>\n",
              "      <td>9</td>\n",
              "      <td>4</td>\n",
              "      <td>6</td>\n",
              "      <td>4</td>\n",
              "      <td>4</td>\n",
              "      <td>10</td>\n",
              "      <td>6</td>\n",
              "      <td>10</td>\n",
              "      <td>2</td>\n",
              "      <td>8</td>\n",
              "    </tr>\n",
              "    <tr>\n",
              "      <th>4</th>\n",
              "      <td>G</td>\n",
              "      <td>2</td>\n",
              "      <td>1</td>\n",
              "      <td>3</td>\n",
              "      <td>1</td>\n",
              "      <td>1</td>\n",
              "      <td>8</td>\n",
              "      <td>6</td>\n",
              "      <td>6</td>\n",
              "      <td>6</td>\n",
              "      <td>6</td>\n",
              "      <td>5</td>\n",
              "      <td>9</td>\n",
              "      <td>1</td>\n",
              "      <td>7</td>\n",
              "      <td>5</td>\n",
              "      <td>10</td>\n",
              "    </tr>\n",
              "  </tbody>\n",
              "</table>\n",
              "</div>"
            ],
            "text/plain": [
              "  letter  xbox   ybox   width   height  ...  xy2bar  xedge   xedgey  yedge   yedgex\n",
              "0      T      2      8       3       5  ...       8       0       8       0       8\n",
              "1      I      5     12       3       7  ...       9       2       8       4      10\n",
              "2      D      4     11       6       8  ...       7       3       7       3       9\n",
              "3      N      7     11       6       6  ...      10       6      10       2       8\n",
              "4      G      2      1       3       1  ...       9       1       7       5      10\n",
              "\n",
              "[5 rows x 17 columns]"
            ]
          },
          "metadata": {
            "tags": []
          },
          "execution_count": 4
        }
      ]
    },
    {
      "cell_type": "code",
      "metadata": {
        "colab": {
          "base_uri": "https://localhost:8080/",
          "height": 224
        },
        "id": "muiik6GLyMBL",
        "outputId": "f3d0d7e0-15c6-4679-e2be-0b243e28dd28"
      },
      "source": [
        "#last 5 row from data\n",
        "letters.tail()"
      ],
      "execution_count": 5,
      "outputs": [
        {
          "output_type": "execute_result",
          "data": {
            "text/html": [
              "<div>\n",
              "<style scoped>\n",
              "    .dataframe tbody tr th:only-of-type {\n",
              "        vertical-align: middle;\n",
              "    }\n",
              "\n",
              "    .dataframe tbody tr th {\n",
              "        vertical-align: top;\n",
              "    }\n",
              "\n",
              "    .dataframe thead th {\n",
              "        text-align: right;\n",
              "    }\n",
              "</style>\n",
              "<table border=\"1\" class=\"dataframe\">\n",
              "  <thead>\n",
              "    <tr style=\"text-align: right;\">\n",
              "      <th></th>\n",
              "      <th>letter</th>\n",
              "      <th>xbox</th>\n",
              "      <th>ybox</th>\n",
              "      <th>width</th>\n",
              "      <th>height</th>\n",
              "      <th>onpix</th>\n",
              "      <th>xbar</th>\n",
              "      <th>ybar</th>\n",
              "      <th>x2bar</th>\n",
              "      <th>y2bar</th>\n",
              "      <th>xybar</th>\n",
              "      <th>x2ybar</th>\n",
              "      <th>xy2bar</th>\n",
              "      <th>xedge</th>\n",
              "      <th>xedgey</th>\n",
              "      <th>yedge</th>\n",
              "      <th>yedgex</th>\n",
              "    </tr>\n",
              "  </thead>\n",
              "  <tbody>\n",
              "    <tr>\n",
              "      <th>19995</th>\n",
              "      <td>D</td>\n",
              "      <td>2</td>\n",
              "      <td>2</td>\n",
              "      <td>3</td>\n",
              "      <td>3</td>\n",
              "      <td>2</td>\n",
              "      <td>7</td>\n",
              "      <td>7</td>\n",
              "      <td>7</td>\n",
              "      <td>6</td>\n",
              "      <td>6</td>\n",
              "      <td>6</td>\n",
              "      <td>4</td>\n",
              "      <td>2</td>\n",
              "      <td>8</td>\n",
              "      <td>3</td>\n",
              "      <td>7</td>\n",
              "    </tr>\n",
              "    <tr>\n",
              "      <th>19996</th>\n",
              "      <td>C</td>\n",
              "      <td>7</td>\n",
              "      <td>10</td>\n",
              "      <td>8</td>\n",
              "      <td>8</td>\n",
              "      <td>4</td>\n",
              "      <td>4</td>\n",
              "      <td>8</td>\n",
              "      <td>6</td>\n",
              "      <td>9</td>\n",
              "      <td>12</td>\n",
              "      <td>9</td>\n",
              "      <td>13</td>\n",
              "      <td>2</td>\n",
              "      <td>9</td>\n",
              "      <td>3</td>\n",
              "      <td>7</td>\n",
              "    </tr>\n",
              "    <tr>\n",
              "      <th>19997</th>\n",
              "      <td>T</td>\n",
              "      <td>6</td>\n",
              "      <td>9</td>\n",
              "      <td>6</td>\n",
              "      <td>7</td>\n",
              "      <td>5</td>\n",
              "      <td>6</td>\n",
              "      <td>11</td>\n",
              "      <td>3</td>\n",
              "      <td>7</td>\n",
              "      <td>11</td>\n",
              "      <td>9</td>\n",
              "      <td>5</td>\n",
              "      <td>2</td>\n",
              "      <td>12</td>\n",
              "      <td>2</td>\n",
              "      <td>4</td>\n",
              "    </tr>\n",
              "    <tr>\n",
              "      <th>19998</th>\n",
              "      <td>S</td>\n",
              "      <td>2</td>\n",
              "      <td>3</td>\n",
              "      <td>4</td>\n",
              "      <td>2</td>\n",
              "      <td>1</td>\n",
              "      <td>8</td>\n",
              "      <td>7</td>\n",
              "      <td>2</td>\n",
              "      <td>6</td>\n",
              "      <td>10</td>\n",
              "      <td>6</td>\n",
              "      <td>8</td>\n",
              "      <td>1</td>\n",
              "      <td>9</td>\n",
              "      <td>5</td>\n",
              "      <td>8</td>\n",
              "    </tr>\n",
              "    <tr>\n",
              "      <th>19999</th>\n",
              "      <td>A</td>\n",
              "      <td>4</td>\n",
              "      <td>9</td>\n",
              "      <td>6</td>\n",
              "      <td>6</td>\n",
              "      <td>2</td>\n",
              "      <td>9</td>\n",
              "      <td>5</td>\n",
              "      <td>3</td>\n",
              "      <td>1</td>\n",
              "      <td>8</td>\n",
              "      <td>1</td>\n",
              "      <td>8</td>\n",
              "      <td>2</td>\n",
              "      <td>7</td>\n",
              "      <td>2</td>\n",
              "      <td>8</td>\n",
              "    </tr>\n",
              "  </tbody>\n",
              "</table>\n",
              "</div>"
            ],
            "text/plain": [
              "      letter  xbox   ybox   width   ...  xedge   xedgey  yedge   yedgex\n",
              "19995      D      2      2       3  ...       2       8       3       7\n",
              "19996      C      7     10       8  ...       2       9       3       7\n",
              "19997      T      6      9       6  ...       2      12       2       4\n",
              "19998      S      2      3       4  ...       1       9       5       8\n",
              "19999      A      4      9       6  ...       2       7       2       8\n",
              "\n",
              "[5 rows x 17 columns]"
            ]
          },
          "metadata": {
            "tags": []
          },
          "execution_count": 5
        }
      ]
    },
    {
      "cell_type": "code",
      "metadata": {
        "colab": {
          "base_uri": "https://localhost:8080/"
        },
        "id": "sHgS_d0ZyMEY",
        "outputId": "33a648dd-e52e-404e-dfb1-0f139c0e75ea"
      },
      "source": [
        "#about the dataset\n",
        "\n",
        "#dimensions\n",
        "print(\"Dimensions:-\",\"\\n\\n\",\"(Rows,Columns)\",\"\\n\", letters.shape, \"\\n\\n\\n\")\n",
        "\n",
        "#data types\n",
        "print(letters.info())\n"
      ],
      "execution_count": 6,
      "outputs": [
        {
          "output_type": "stream",
          "text": [
            "Dimensions:- \n",
            "\n",
            " (Rows,Columns) \n",
            " (20000, 17) \n",
            "\n",
            "\n",
            "\n",
            "<class 'pandas.core.frame.DataFrame'>\n",
            "RangeIndex: 20000 entries, 0 to 19999\n",
            "Data columns (total 17 columns):\n",
            " #   Column  Non-Null Count  Dtype \n",
            "---  ------  --------------  ----- \n",
            " 0   letter  20000 non-null  object\n",
            " 1   xbox    20000 non-null  int64 \n",
            " 2   ybox    20000 non-null  int64 \n",
            " 3   width   20000 non-null  int64 \n",
            " 4   height  20000 non-null  int64 \n",
            " 5   onpix   20000 non-null  int64 \n",
            " 6   xbar    20000 non-null  int64 \n",
            " 7   ybar    20000 non-null  int64 \n",
            " 8   x2bar   20000 non-null  int64 \n",
            " 9   y2bar   20000 non-null  int64 \n",
            " 10  xybar   20000 non-null  int64 \n",
            " 11  x2ybar  20000 non-null  int64 \n",
            " 12  xy2bar  20000 non-null  int64 \n",
            " 13  xedge   20000 non-null  int64 \n",
            " 14  xedgey  20000 non-null  int64 \n",
            " 15  yedge   20000 non-null  int64 \n",
            " 16  yedgex  20000 non-null  int64 \n",
            "dtypes: int64(16), object(1)\n",
            "memory usage: 2.6+ MB\n",
            "None\n"
          ],
          "name": "stdout"
        }
      ]
    },
    {
      "cell_type": "code",
      "metadata": {
        "colab": {
          "base_uri": "https://localhost:8080/"
        },
        "id": "3H2tnsuPyMH_",
        "outputId": "4c8c2ae4-ff78-4326-b57f-4748dd309946"
      },
      "source": [
        "#extract latters from data and sorted\n",
        "Order =list(np.sort(letters['letter'].unique()))\n",
        "print(Order)"
      ],
      "execution_count": 7,
      "outputs": [
        {
          "output_type": "stream",
          "text": [
            "['A', 'B', 'C', 'D', 'E', 'F', 'G', 'H', 'I', 'J', 'K', 'L', 'M', 'N', 'O', 'P', 'Q', 'R', 'S', 'T', 'U', 'V', 'W', 'X', 'Y', 'Z']\n"
          ],
          "name": "stdout"
        }
      ]
    },
    {
      "cell_type": "code",
      "metadata": {
        "colab": {
          "base_uri": "https://localhost:8080/"
        },
        "id": "VJrFzm7ryMKU",
        "outputId": "8de3a54b-7dc2-40ca-c6aa-148685e69635"
      },
      "source": [
        "# a quirky bug: the column names have a space, e.g. 'xbox ', which throws and error when indexed\n",
        "print(letters.columns)"
      ],
      "execution_count": 8,
      "outputs": [
        {
          "output_type": "stream",
          "text": [
            "Index(['letter', 'xbox ', 'ybox ', 'width ', 'height', 'onpix ', 'xbar ',\n",
            "       'ybar ', 'x2bar', 'y2bar ', 'xybar ', 'x2ybar', 'xy2bar', 'xedge ',\n",
            "       'xedgey', 'yedge ', 'yedgex'],\n",
            "      dtype='object')\n"
          ],
          "name": "stdout"
        }
      ]
    },
    {
      "cell_type": "code",
      "metadata": {
        "colab": {
          "base_uri": "https://localhost:8080/"
        },
        "id": "haRMb0UuyMNq",
        "outputId": "dfba102b-2ee0-41e1-8552-9c3769af893e"
      },
      "source": [
        "# let's 'reindex' the column names\n",
        "letters.columns = ['letter', 'xbox', 'ybox', 'width', 'height', 'onpix', 'xbar',\n",
        "       'ybar', 'x2bar', 'y2bar', 'xybar', 'x2ybar', 'xy2bar', 'xedge',\n",
        "       'xedgey', 'yedge', 'yedgex']\n",
        "print(letters.columns)"
      ],
      "execution_count": 9,
      "outputs": [
        {
          "output_type": "stream",
          "text": [
            "Index(['letter', 'xbox', 'ybox', 'width', 'height', 'onpix', 'xbar', 'ybar',\n",
            "       'x2bar', 'y2bar', 'xybar', 'x2ybar', 'xy2bar', 'xedge', 'xedgey',\n",
            "       'yedge', 'yedgex'],\n",
            "      dtype='object')\n"
          ],
          "name": "stdout"
        }
      ]
    },
    {
      "cell_type": "code",
      "metadata": {
        "colab": {
          "base_uri": "https://localhost:8080/",
          "height": 514
        },
        "id": "fCSWxIc_yMRY",
        "outputId": "f844df00-e834-48bd-ea38-1fd8be15d846"
      },
      "source": [
        "# basic plots: How do various attributes vary with the letters\n",
        "\n",
        "plt.figure(figsize=(16, 8))\n",
        "sns.barplot(x='letter', y='xbox', \n",
        "            data=letters, \n",
        "            order=Order)"
      ],
      "execution_count": 10,
      "outputs": [
        {
          "output_type": "execute_result",
          "data": {
            "text/plain": [
              "<matplotlib.axes._subplots.AxesSubplot at 0x7f9fbacf1e90>"
            ]
          },
          "metadata": {
            "tags": []
          },
          "execution_count": 10
        },
        {
          "output_type": "display_data",
          "data": {
            "image/png": "[encoded data removed]",
            "text/plain": [
              "<Figure size 1152x576 with 1 Axes>"
            ]
          },
          "metadata": {
            "tags": [],
            "needs_background": "light"
          }
        }
      ]
    },
    {
      "cell_type": "code",
      "metadata": {
        "colab": {
          "base_uri": "https://localhost:8080/",
          "height": 255
        },
        "id": "1tw0bnsWzfIr",
        "outputId": "5f5c8332-e3b5-41ef-f687-c3e24e801a90"
      },
      "source": [
        "letter_means = letters.groupby('letter').mean()\n",
        "letter_means.head()"
      ],
      "execution_count": 11,
      "outputs": [
        {
          "output_type": "execute_result",
          "data": {
            "text/html": [
              "<div>\n",
              "<style scoped>\n",
              "    .dataframe tbody tr th:only-of-type {\n",
              "        vertical-align: middle;\n",
              "    }\n",
              "\n",
              "    .dataframe tbody tr th {\n",
              "        vertical-align: top;\n",
              "    }\n",
              "\n",
              "    .dataframe thead th {\n",
              "        text-align: right;\n",
              "    }\n",
              "</style>\n",
              "<table border=\"1\" class=\"dataframe\">\n",
              "  <thead>\n",
              "    <tr style=\"text-align: right;\">\n",
              "      <th></th>\n",
              "      <th>xbox</th>\n",
              "      <th>ybox</th>\n",
              "      <th>width</th>\n",
              "      <th>height</th>\n",
              "      <th>onpix</th>\n",
              "      <th>xbar</th>\n",
              "      <th>ybar</th>\n",
              "      <th>x2bar</th>\n",
              "      <th>y2bar</th>\n",
              "      <th>xybar</th>\n",
              "      <th>x2ybar</th>\n",
              "      <th>xy2bar</th>\n",
              "      <th>xedge</th>\n",
              "      <th>xedgey</th>\n",
              "      <th>yedge</th>\n",
              "      <th>yedgex</th>\n",
              "    </tr>\n",
              "    <tr>\n",
              "      <th>letter</th>\n",
              "      <th></th>\n",
              "      <th></th>\n",
              "      <th></th>\n",
              "      <th></th>\n",
              "      <th></th>\n",
              "      <th></th>\n",
              "      <th></th>\n",
              "      <th></th>\n",
              "      <th></th>\n",
              "      <th></th>\n",
              "      <th></th>\n",
              "      <th></th>\n",
              "      <th></th>\n",
              "      <th></th>\n",
              "      <th></th>\n",
              "      <th></th>\n",
              "    </tr>\n",
              "  </thead>\n",
              "  <tbody>\n",
              "    <tr>\n",
              "      <th>A</th>\n",
              "      <td>3.337136</td>\n",
              "      <td>6.975919</td>\n",
              "      <td>5.128010</td>\n",
              "      <td>5.178707</td>\n",
              "      <td>2.991128</td>\n",
              "      <td>8.851711</td>\n",
              "      <td>3.631179</td>\n",
              "      <td>2.755387</td>\n",
              "      <td>2.043093</td>\n",
              "      <td>7.802281</td>\n",
              "      <td>2.338403</td>\n",
              "      <td>8.465146</td>\n",
              "      <td>2.771863</td>\n",
              "      <td>6.321926</td>\n",
              "      <td>2.875792</td>\n",
              "      <td>7.468948</td>\n",
              "    </tr>\n",
              "    <tr>\n",
              "      <th>B</th>\n",
              "      <td>3.985640</td>\n",
              "      <td>6.962141</td>\n",
              "      <td>5.088773</td>\n",
              "      <td>5.169713</td>\n",
              "      <td>4.596606</td>\n",
              "      <td>7.671018</td>\n",
              "      <td>7.062663</td>\n",
              "      <td>5.366841</td>\n",
              "      <td>5.571802</td>\n",
              "      <td>7.954308</td>\n",
              "      <td>5.506527</td>\n",
              "      <td>6.652742</td>\n",
              "      <td>3.117493</td>\n",
              "      <td>7.919060</td>\n",
              "      <td>6.612272</td>\n",
              "      <td>9.100522</td>\n",
              "    </tr>\n",
              "    <tr>\n",
              "      <th>C</th>\n",
              "      <td>4.031250</td>\n",
              "      <td>7.063859</td>\n",
              "      <td>4.701087</td>\n",
              "      <td>5.296196</td>\n",
              "      <td>2.775815</td>\n",
              "      <td>5.437500</td>\n",
              "      <td>7.627717</td>\n",
              "      <td>5.927989</td>\n",
              "      <td>7.177989</td>\n",
              "      <td>8.773098</td>\n",
              "      <td>7.494565</td>\n",
              "      <td>11.947011</td>\n",
              "      <td>1.991848</td>\n",
              "      <td>8.876359</td>\n",
              "      <td>4.080163</td>\n",
              "      <td>8.555707</td>\n",
              "    </tr>\n",
              "    <tr>\n",
              "      <th>D</th>\n",
              "      <td>4.023602</td>\n",
              "      <td>7.244720</td>\n",
              "      <td>5.170186</td>\n",
              "      <td>5.288199</td>\n",
              "      <td>4.026087</td>\n",
              "      <td>7.539130</td>\n",
              "      <td>6.806211</td>\n",
              "      <td>5.921739</td>\n",
              "      <td>6.508075</td>\n",
              "      <td>8.166460</td>\n",
              "      <td>5.111801</td>\n",
              "      <td>5.750311</td>\n",
              "      <td>3.365217</td>\n",
              "      <td>7.813665</td>\n",
              "      <td>3.971429</td>\n",
              "      <td>7.628571</td>\n",
              "    </tr>\n",
              "    <tr>\n",
              "      <th>E</th>\n",
              "      <td>3.727865</td>\n",
              "      <td>6.944010</td>\n",
              "      <td>4.756510</td>\n",
              "      <td>5.201823</td>\n",
              "      <td>3.679688</td>\n",
              "      <td>5.966146</td>\n",
              "      <td>7.352865</td>\n",
              "      <td>4.223958</td>\n",
              "      <td>7.585938</td>\n",
              "      <td>8.507812</td>\n",
              "      <td>6.242188</td>\n",
              "      <td>10.341146</td>\n",
              "      <td>2.127604</td>\n",
              "      <td>8.298177</td>\n",
              "      <td>6.022135</td>\n",
              "      <td>8.506510</td>\n",
              "    </tr>\n",
              "  </tbody>\n",
              "</table>\n",
              "</div>"
            ],
            "text/plain": [
              "            xbox      ybox     width  ...    xedgey     yedge    yedgex\n",
              "letter                                ...                              \n",
              "A       3.337136  6.975919  5.128010  ...  6.321926  2.875792  7.468948\n",
              "B       3.985640  6.962141  5.088773  ...  7.919060  6.612272  9.100522\n",
              "C       4.031250  7.063859  4.701087  ...  8.876359  4.080163  8.555707\n",
              "D       4.023602  7.244720  5.170186  ...  7.813665  3.971429  7.628571\n",
              "E       3.727865  6.944010  4.756510  ...  8.298177  6.022135  8.506510\n",
              "\n",
              "[5 rows x 16 columns]"
            ]
          },
          "metadata": {
            "tags": []
          },
          "execution_count": 11
        }
      ]
    },
    {
      "cell_type": "code",
      "metadata": {
        "colab": {
          "base_uri": "https://localhost:8080/"
        },
        "id": "UKh7e-3zzhIe",
        "outputId": "7ab9cd2c-1c51-4539-c5ac-f70d7376c9ed"
      },
      "source": [
        "# average feature values\n",
        "round(letters.drop('letter', axis=1).mean(), 2)"
      ],
      "execution_count": 12,
      "outputs": [
        {
          "output_type": "execute_result",
          "data": {
            "text/plain": [
              "xbox      4.02\n",
              "ybox      7.04\n",
              "width     5.12\n",
              "height    5.37\n",
              "onpix     3.51\n",
              "xbar      6.90\n",
              "ybar      7.50\n",
              "x2bar     4.63\n",
              "y2bar     5.18\n",
              "xybar     8.28\n",
              "x2ybar    6.45\n",
              "xy2bar    7.93\n",
              "xedge     3.05\n",
              "xedgey    8.34\n",
              "yedge     3.69\n",
              "yedgex    7.80\n",
              "dtype: float64"
            ]
          },
          "metadata": {
            "tags": []
          },
          "execution_count": 12
        }
      ]
    },
    {
      "cell_type": "code",
      "metadata": {
        "id": "i3ku11HozhL_"
      },
      "source": [
        "\n",
        "# splitting into X and y\n",
        "X = letters.drop(\"letter\", axis = 1)\n",
        "y = letters['letter']"
      ],
      "execution_count": 13,
      "outputs": []
    },
    {
      "cell_type": "code",
      "metadata": {
        "id": "-7kcurCOzhPe"
      },
      "source": [
        "# scaling the features\n",
        "#Create Object from MinMaxScaler\n",
        "s = MinMaxScaler()\n",
        "#fit_transform for dataset\n",
        "X_scaled = s.fit_transform(X)"
      ],
      "execution_count": 14,
      "outputs": []
    },
    {
      "cell_type": "code",
      "metadata": {
        "id": "W0ioUXdAzhSQ"
      },
      "source": [
        "# train test split\n",
        "X_train, X_test, y_train, y_test = train_test_split(X_scaled, y, test_size = 0.3, random_state = 101)"
      ],
      "execution_count": 15,
      "outputs": []
    },
    {
      "cell_type": "code",
      "metadata": {
        "colab": {
          "base_uri": "https://localhost:8080/"
        },
        "id": "9aAO2YBtzv7q",
        "outputId": "33a6dc69-3230-471c-af1f-acf8ca8f9020"
      },
      "source": [
        "# linear model\n",
        "\n",
        "model_linear = SVC(kernel='linear')\n",
        "model_linear.fit(X_train, y_train)\n",
        "\n",
        "# predict\n",
        "y_pred_linear = model_linear.predict(X_test)\n",
        "print ('y_prediction' , y_pred_linear) \n",
        "\n",
        "# accuracy\n",
        "print(\"accuracy:\", metrics.accuracy_score(y_true=y_test, y_pred=y_pred_linear), \"\\n\")\n",
        "# cm\n",
        "print(metrics.confusion_matrix(y_true=y_test, y_pred=y_pred_linear))"
      ],
      "execution_count": 16,
      "outputs": [
        {
          "output_type": "stream",
          "text": [
            "y_prediction ['F' 'E' 'M' ... 'F' 'B' 'C']\n",
            "accuracy: 0.8201666666666667 \n",
            "\n",
            "[[193   0   0   2   0   0   0   0   0   0   1   1   0   1   0   0   1   2\n",
            "    1   1   1   0   1   0   4   0]\n",
            " [  0 189   0   7   0   0   4   5   0   0   0   0   0   0   0   0   2   8\n",
            "    2   0   0   0   0   1   0   0]\n",
            " [  0   0 179   0  12   2  11   0   0   0  13   0   1   0   7   0   0   0\n",
            "    2   0   3   0   0   0   0   0]\n",
            " [  2  21   0 209   0   0   1   2   0   0   0   0   1   3   0   0   1   5\n",
            "    0   1   1   0   0   0   0   1]\n",
            " [  0   2   0   0 206   1   8   0   0   0   2   1   0   0   0   0   3   3\n",
            "    2   3   0   0   0   1   0   2]\n",
            " [  0   5   0   2   0 188   2   3   1   0   0   0   0   2   0   0   0   0\n",
            "    5  10   1   1   2   0   2   1]\n",
            " [  1   1   7   8   0   2 157   2   0   0   5   2   2   0   1   1  15   3\n",
            "    9   0   0   0   3   0   0   0]\n",
            " [  0  10   0  13   1   1   4 134   0   0   4   1   2   0  18   0   6  14\n",
            "    0   0   3   2   0   2   2   0]\n",
            " [  0   3   2   6   0   7   0   0 175   4   0   0   0   0   0   0   0   0\n",
            "   12   0   0   0   0   4   0   2]\n",
            " [  4   3   0   8   1   3   0   0   6 183   0   0   0   1   3   0   0   0\n",
            "    5   0   1   0   0   1   0   1]\n",
            " [  1   3   4   5   3   0   1   4   0   0 189   2   0   0   0   0   1  18\n",
            "    0   0   2   0   0  12   0   0]\n",
            " [  1   2   2   1   8   0   7   1   0   0   3 199   0   0   0   0   4   2\n",
            "    4   0   1   0   0   2   0   0]\n",
            " [  0   3   0   0   0   0   0   4   0   0   0   0 218   1   0   0   0   2\n",
            "    0   0   1   0   5   0   0   0]\n",
            " [  0   0   0   6   0   0   0   6   0   0   0   0   2 231   1   1   0   0\n",
            "    0   0   0   1   2   0   1   0]\n",
            " [  2   0   4  11   0   0   0  19   0   1   0   0   1   1 161   2   1   4\n",
            "    0   0   1   0  13   0   0   0]\n",
            " [  0   3   0   3   0  21   6   0   0   0   3   0   0   0   3 210   1   0\n",
            "    0   1   0   0   2   0  12   0]\n",
            " [  6   2   0   0   5   0   7   1   0   1   0   1   0   0  16   0 178   1\n",
            "   11   0   0   0   3   0   1   2]\n",
            " [  7  16   0   1   0   0   4   6   0   0  12   0   1   2   1   0   3 187\n",
            "    0   0   0   0   1   2   0   0]\n",
            " [  1  21   0   0   9   3   1   0   2   0   0   8   0   0   0   0   4   3\n",
            "  153   9   0   0   0   4   3   7]\n",
            " [  0   0   0   1   3   2   2   2   0   0   1   0   0   0   0   1   0   1\n",
            "    8 210   0   0   0   3   2   3]\n",
            " [  2   0   1   0   0   0   0   2   0   0   1   0   4   2   5   0   0   0\n",
            "    0   0 204   0   3   0   0   0]\n",
            " [  1   3   0   0   0   0   2   7   0   0   0   0   0   1   0   1   0   1\n",
            "    0   0   1 187   6   0   1   0]\n",
            " [  0   0   0   0   0   0   1   4   0   0   0   0   4   1   0   0   0   0\n",
            "    0   0   3   0 209   0   0   0]\n",
            " [  0   5   0   4   7   0   0   0   1   0   5   0   0   0   1   0   0   0\n",
            "    6   3   1   0   0 208   1   2]\n",
            " [  1   0   0   0   0   2   0   1   0   0   0   0   2   0   0   0   3   0\n",
            "    1  11   0  25   1   0 190   0]\n",
            " [  1   0   0   0  14   2   0   0   0   4   0   0   0   0   0   0   2   0\n",
            "   30   2   0   0   0   0   0 174]]\n"
          ],
          "name": "stdout"
        }
      ]
    },
    {
      "cell_type": "code",
      "metadata": {
        "colab": {
          "base_uri": "https://localhost:8080/"
        },
        "id": "LdG8APipzv-h",
        "outputId": "61e07b2f-f138-4652-bdaa-782e7be3a3a1"
      },
      "source": [
        "# non-linear model\n",
        "# using rbf kernel, C=1, default value of gamma\n",
        "\n",
        "# model\n",
        "non_linear_model = SVC(kernel='rbf')\n",
        "\n",
        "# fit\n",
        "non_linear_model.fit(X_train, y_train)\n",
        "\n",
        "# predict\n",
        "y_pred_rbf = non_linear_model.predict(X_test)\n",
        "print('y_prediction is :' ,y_pred_rbf )\n",
        "\n",
        "# accuracy\n",
        "print(\"accuracy:\", metrics.accuracy_score(y_true=y_test, y_pred=y_pred_rbf), \"\\n\")\n",
        "\n",
        "# cm\n",
        "print(metrics.confusion_matrix(y_true=y_test, y_pred=y_pred_rbf))"
      ],
      "execution_count": 17,
      "outputs": [
        {
          "output_type": "stream",
          "text": [
            "y_prediction is : ['P' 'E' 'M' ... 'F' 'B' 'C']\n",
            "accuracy: 0.9195 \n",
            "\n",
            "[[202   0   0   0   0   0   1   0   0   0   0   1   0   0   0   0   0   1\n",
            "    0   0   1   0   0   0   3   0]\n",
            " [  0 201   0   6   0   0   1   0   0   0   0   0   0   0   0   0   0   8\n",
            "    1   0   0   0   0   1   0   0]\n",
            " [  0   0 206   0   8   0   8   1   0   0   1   0   0   0   6   0   0   0\n",
            "    0   0   0   0   0   0   0   0]\n",
            " [  0   9   0 231   0   0   0   1   0   0   0   0   1   3   1   0   1   1\n",
            "    0   0   0   0   0   0   0   0]\n",
            " [  0   1   1   0 215   2   8   0   0   0   0   2   0   0   0   0   1   2\n",
            "    0   0   0   0   0   0   0   2]\n",
            " [  0   0   0   2   0 211   1   2   1   1   0   0   0   1   0   0   0   0\n",
            "    2   3   0   0   1   0   0   0]\n",
            " [  0   1   3   4   1   2 197   0   0   0   1   0   2   0   2   0   2   1\n",
            "    0   0   0   1   2   0   0   0]\n",
            " [  0   8   1   9   0   1   4 162   0   0   3   1   1   0   4   0   5  14\n",
            "    0   0   3   0   0   0   1   0]\n",
            " [  0   0   1   2   0   4   0   0 192   8   0   0   0   0   0   1   0   0\n",
            "    2   0   0   0   0   2   0   3]\n",
            " [  0   0   0   3   0   0   0   0   5 203   0   0   0   1   2   0   0   0\n",
            "    5   0   1   0   0   0   0   0]\n",
            " [  0   1   1   3   0   0   0   2   0   0 210   0   1   0   0   0   0  19\n",
            "    0   0   0   0   0   8   0   0]\n",
            " [  1   2   2   0   3   0   4   0   0   0   1 218   0   0   0   0   0   4\n",
            "    1   0   0   0   0   1   0   0]\n",
            " [  0   3   0   0   0   0   1   1   0   0   0   0 225   0   0   0   0   1\n",
            "    0   0   0   0   3   0   0   0]\n",
            " [  0   3   0   1   0   0   0   2   0   0   0   0   1 238   5   0   0   1\n",
            "    0   0   0   0   0   0   0   0]\n",
            " [  0   0   0   2   0   0   0   0   0   0   0   0   1   0 204   0   2   2\n",
            "    0   0   1   0   9   0   0   0]\n",
            " [  0   2   0   2   2  13   5   2   0   0   0   0   0   0   1 229   1   1\n",
            "    0   0   0   0   0   0   7   0]\n",
            " [  0   0   0   0   3   0   1   0   0   0   0   0   0   0   9   0 218   0\n",
            "    2   0   0   0   2   0   0   0]\n",
            " [  0  12   0   1   0   0   2   0   0   0   1   0   1   3   0   0   2 221\n",
            "    0   0   0   0   0   0   0   0]\n",
            " [  1   7   0   0   3   6   0   0   0   0   0   0   0   0   0   0   0   0\n",
            "  207   3   0   0   0   1   0   0]\n",
            " [  0   0   0   1   1   1   1   2   0   0   0   0   0   0   0   0   0   1\n",
            "    1 228   0   0   0   2   0   1]\n",
            " [  1   0   0   0   0   0   0   1   0   0   0   0   0   1   1   0   0   0\n",
            "    0   0 220   0   0   0   0   0]\n",
            " [  0   5   0   0   0   0   0   0   0   0   0   0   0   2   0   1   0   4\n",
            "    0   0   0 191   5   0   3   0]\n",
            " [  0   1   0   0   0   0   1   1   0   0   0   0   0   1   2   0   0   0\n",
            "    0   0   2   0 214   0   0   0]\n",
            " [  0   1   0   4   2   0   0   0   1   2   3   0   0   0   1   0   0   1\n",
            "    0   0   0   0   0 229   0   0]\n",
            " [  2   0   0   0   0   0   0   1   0   0   0   0   1   0   0   0   0   0\n",
            "    0   1   1   5   0   0 226   0]\n",
            " [  0   0   0   0   4   1   0   0   0   0   0   0   0   0   0   0   4   0\n",
            "    1   0   0   0   0   0   0 219]]\n"
          ],
          "name": "stdout"
        }
      ]
    },
    {
      "cell_type": "code",
      "metadata": {
        "colab": {
          "base_uri": "https://localhost:8080/"
        },
        "id": "RBYw71DozwBn",
        "outputId": "9925a25b-c43e-46fd-9df1-63351325602a"
      },
      "source": [
        "\n",
        "# using sigmoid kernel, C=1, default value of gamma\n",
        "\n",
        "# model\n",
        "non_linear_model = SVC(kernel='sigmoid')\n",
        "# fit\n",
        "non_linear_model.fit(X_train, y_train)\n",
        "\n",
        "# predict\n",
        "y_pred_sigmoid = non_linear_model.predict(X_test)\n",
        "print('y_prediction is ::' , y_pred_sigmoid)\n",
        "\n",
        "# accuracy\n",
        "print(\"accuracy :\", metrics.accuracy_score(y_true=y_test, y_pred=y_pred_sigmoid), \"\\n\")\n",
        "\n",
        "# cm\n",
        "print(metrics.confusion_matrix(y_true=y_test, y_pred=y_pred_sigmoid))"
      ],
      "execution_count": 18,
      "outputs": [
        {
          "output_type": "stream",
          "text": [
            "y_prediction is :: ['A' 'A' 'A' ... 'A' 'A' 'A']\n",
            "accuracy : 0.027 \n",
            "\n",
            "[[100   0   7   0   0   0  18   0   0   0   0   0   0   0   0   0   0   0\n",
            "    0   0  84   0   0   0   0   0]\n",
            " [158   0   0   0   0   0   0   0   0   0   0   0   0   0   0   0   0   0\n",
            "    0   0  60   0   0   0   0   0]\n",
            " [212   0   0   0   0   0   0   0   0   0   0   2   0   0   0   0   0   0\n",
            "    0   0  16   0   0   0   0   0]\n",
            " [128   0   0   0   0   0   0   0   0   0   0  25   0   0   0   0   0   0\n",
            "    0   0  95   0   0   0   0   0]\n",
            " [198   0   0   0   0   0   0   0   0   0   0   0   0   0   0   0   0   0\n",
            "    0   0  36   0   0   0   0   0]\n",
            " [117   0   0   0   0   0   0   0   0   0   0   0   0   0   0   0   0   0\n",
            "    0   0 108   0   0   0   0   0]\n",
            " [175   0   0   0   0   0   0   0   0   0   0   1   0   0   0   0   0   0\n",
            "    0   0  43   0   0   0   0   0]\n",
            " [155   0   0   0   0   0   0   0   0   0   0   0   0   0   0   0   0   0\n",
            "    0   0  62   0   0   0   0   0]\n",
            " [ 90   0   0   0   0   0   0   0   0   0   0   0   0   0   0   0   0   0\n",
            "    0   0 125   0   0   0   0   0]\n",
            " [173   0   0   0   0   0   0   0   0   0   0   0   0   0   0   0   0   0\n",
            "    0   0  47   0   0   0   0   0]\n",
            " [194   0   0   0   0   0   0   0   0   0   0   0   0   0   0   0   0   0\n",
            "    0   0  51   0   0   0   0   0]\n",
            " [ 73   0  77   0   1   0   3   0   0   0   0   0   0   0   0   0   0   0\n",
            "    0   5  78   0   0   0   0   0]\n",
            " [155   0   0   0   0   0   0   0   0   0   0   0   0   0   0   0   0   0\n",
            "    0   0  79   0   0   0   0   0]\n",
            " [143   0   0   0   0   0   0   0   0   0   0   1   0   0   0   0   0   0\n",
            "    0   0 107   0   0   0   0   0]\n",
            " [158   0   0   0   0   0   0   0   0   0   0   0   0   0   0   0   0   0\n",
            "    0   0  63   0   0   0   0   0]\n",
            " [155   0   0   0   0   0   0   0   0   0   0   1   0   0   0   0   0   0\n",
            "    0   0 109   0   0   0   0   0]\n",
            " [188   0   0   0   0   0   0   0   0   0   0   0   0   0   0   0   0   0\n",
            "    0   0  47   0   0   0   0   0]\n",
            " [178   0   0   0   0   0   0   0   0   0   0   0   0   0   0   0   0   0\n",
            "    0   0  65   0   0   0   0   0]\n",
            " [162   0   0   0   0   0   0   0   0   0   0   5   0   0   0   0   0   0\n",
            "    0   0  61   0   0   0   0   0]\n",
            " [141   0   0   0   0   0   0   0   0   0   0   0   0   0   0   0   0   0\n",
            "    0   0  98   0   0   0   0   0]\n",
            " [162   0   0   0   0   0   0   0   0   0   0   0   0   0   0   0   0   0\n",
            "    0   0  62   0   0   0   0   0]\n",
            " [163   0   0   0   0   0   0   0   0   0   0   0   0   0   0   0   0   0\n",
            "    0   0  48   0   0   0   0   0]\n",
            " [183   0   0   0   0   0   0   0   0   0   0   0   0   0   0   0   0   0\n",
            "    0   0  39   0   0   0   0   0]\n",
            " [168   0   0   0   0   0   0   0   0   0   0   0   0   0   0   0   0   0\n",
            "    0   0  76   0   0   0   0   0]\n",
            " [142   0   0   0   0   0   0   0   0   0   0   0   0   0   0   0   0   0\n",
            "    0   0  95   0   0   0   0   0]\n",
            " [174   0   0   0   0   0   0   0   0   0   0   0   0   0   0   0   0   0\n",
            "    0   0  55   0   0   0   0   0]]\n"
          ],
          "name": "stdout"
        }
      ]
    },
    {
      "cell_type": "code",
      "metadata": {
        "colab": {
          "base_uri": "https://localhost:8080/"
        },
        "id": "iePHeLavzwEh",
        "outputId": "572d5a8c-151f-4348-b720-2e7533c3146b"
      },
      "source": [
        "# using poly kernel, C=1, default value of gamma\n",
        "\n",
        "# model\n",
        "non_linear_model = SVC(kernel='poly')\n",
        "# fit\n",
        "non_linear_model.fit(X_train, y_train)\n",
        "\n",
        "# predict\n",
        "y_pred_poly = non_linear_model.predict(X_test)\n",
        "print('y_prediction is ::' , y_pred_poly)\n",
        "\n",
        "# accuracy\n",
        "print(\"accuracy :\", metrics.accuracy_score(y_true=y_test, y_pred=y_pred_poly), \"\\n\")\n",
        "\n",
        "# cm\n",
        "print(metrics.confusion_matrix(y_true=y_test, y_pred=y_pred_poly))"
      ],
      "execution_count": 19,
      "outputs": [
        {
          "output_type": "stream",
          "text": [
            "y_prediction is :: ['P' 'E' 'M' ... 'F' 'D' 'C']\n",
            "accuracy : 0.9446666666666667 \n",
            "\n",
            "[[206   1   0   0   0   0   0   0   0   0   0   1   0   0   0   0   0   0\n",
            "    0   0   0   0   0   0   1   0]\n",
            " [  0 207   0   2   1   0   0   0   0   0   0   0   0   1   0   0   0   4\n",
            "    2   0   0   0   0   1   0   0]\n",
            " [  0   0 218   0   2   0   5   1   0   0   0   0   0   0   4   0   0   0\n",
            "    0   0   0   0   0   0   0   0]\n",
            " [  1   3   0 233   0   1   1   1   0   0   0   0   0   3   2   0   1   2\n",
            "    0   0   0   0   0   0   0   0]\n",
            " [  0   0   3   0 217   2   7   0   0   0   0   1   0   0   0   0   0   0\n",
            "    1   0   0   0   0   1   0   2]\n",
            " [  0   0   0   3   0 214   0   1   1   0   0   0   0   1   0   2   0   0\n",
            "    1   2   0   0   0   0   0   0]\n",
            " [  0   1   3   2   1   1 206   0   0   0   0   0   1   0   1   0   0   0\n",
            "    0   0   0   1   2   0   0   0]\n",
            " [  0   3   2   6   1   1   1 185   0   0   0   1   1   0   2   0   4   9\n",
            "    0   0   0   0   0   0   1   0]\n",
            " [  0   0   1   2   0   2   0   0 199   9   0   0   0   0   0   0   0   0\n",
            "    1   0   0   0   0   1   0   0]\n",
            " [  0   0   0   1   0   0   0   0   6 208   0   0   0   1   1   0   0   0\n",
            "    0   0   2   0   0   1   0   0]\n",
            " [  0   2   1   1   1   0   0   4   0   0 220   0   1   0   0   0   0   8\n",
            "    0   0   0   0   0   7   0   0]\n",
            " [  0   1   2   0   1   0   4   1   0   0   2 223   0   0   0   1   0   0\n",
            "    1   1   0   0   0   0   0   0]\n",
            " [  0   0   0   0   0   0   0   0   0   0   0   0 231   1   0   0   0   1\n",
            "    0   0   0   0   1   0   0   0]\n",
            " [  1   0   0   1   0   0   0   1   0   0   0   0   1 243   0   0   0   2\n",
            "    0   0   0   1   1   0   0   0]\n",
            " [  0   0   1   3   0   0   0   0   0   0   0   0   1   0 209   1   1   2\n",
            "    0   0   0   0   3   0   0   0]\n",
            " [  0   2   1   1   0  10   0   1   0   1   0   0   0   0   1 244   1   1\n",
            "    0   0   0   0   0   0   2   0]\n",
            " [  0   0   0   0   2   0   1   0   0   0   0   0   0   0   4   1 226   0\n",
            "    0   0   0   0   0   0   0   1]\n",
            " [  0  11   0   3   1   0   0   0   0   0   1   0   1   1   0   0   1 223\n",
            "    0   1   0   0   0   0   0   0]\n",
            " [  0   5   0   0   1   4   1   0   1   0   0   0   0   0   0   0   0   0\n",
            "  216   0   0   0   0   0   0   0]\n",
            " [  0   0   0   1   1   1   0   1   0   0   0   0   0   0   0   1   0   1\n",
            "    0 229   0   0   0   2   1   1]\n",
            " [  1   0   1   0   0   0   0   2   0   0   1   0   0   3   0   0   0   0\n",
            "    0   0 216   0   0   0   0   0]\n",
            " [  0   5   0   0   0   0   0   0   0   0   0   0   0   2   0   1   0   1\n",
            "    0   0   0 199   3   0   0   0]\n",
            " [  0   0   0   0   0   0   1   0   0   0   0   0   3   0   1   0   0   0\n",
            "    0   0   0   0 217   0   0   0]\n",
            " [  0   1   0   2   1   0   0   1   1   1   4   1   0   0   0   0   0   1\n",
            "    0   0   0   0   0 229   1   1]\n",
            " [  2   0   0   0   0   0   0   0   1   0   0   0   0   0   0   0   0   0\n",
            "    0   1   2   3   1   0 227   0]\n",
            " [  0   0   0   0   0   1   0   0   0   0   0   0   0   0   0   0   4   0\n",
            "    1   0   0   0   0   0   0 223]]\n"
          ],
          "name": "stdout"
        }
      ]
    },
    {
      "cell_type": "code",
      "metadata": {
        "colab": {
          "base_uri": "https://localhost:8080/"
        },
        "id": "7hqYD6KFzwH1",
        "outputId": "36ce615a-fa2d-4763-c7ab-fed9cf2c89f6"
      },
      "source": [
        "print(\"accuracy with linear kernel :\", metrics.accuracy_score(y_true=y_test, y_pred=y_pred_linear)*100,\"\\n\")\n",
        "print(\"accuracy with rbf kernel :\",    metrics.accuracy_score(y_true=y_test, y_pred=y_pred_rbf)*100, \"\\n\")\n",
        "print(\"accuracy with sigmoid kernel :\", metrics.accuracy_score(y_true=y_test, y_pred=y_pred_sigmoid)*100, \"\\n\")\n",
        "print(\"accuracy with poly kernel :\",   metrics.accuracy_score(y_true=y_test, y_pred=y_pred_poly)*100, \"\\n\")"
      ],
      "execution_count": 20,
      "outputs": [
        {
          "output_type": "stream",
          "text": [
            "accuracy with linear kernel : 82.01666666666667 \n",
            "\n",
            "accuracy with rbf kernel : 91.95 \n",
            "\n",
            "accuracy with sigmoid kernel : 2.7 \n",
            "\n",
            "accuracy with poly kernel : 94.46666666666667 \n",
            "\n"
          ],
          "name": "stdout"
        }
      ]
    },
    {
      "cell_type": "markdown",
      "metadata": {
        "id": "-_IRkW8D0zWl"
      },
      "source": [
        "\n",
        "#From this comparison Poly-Kernel has highest accuracy of 94.46%\n",
        "\n",
        "Thanks! \n",
        "\n",
        "\n"
      ]
    },
    {
      "cell_type": "code",
      "metadata": {
        "id": "qN9qRROO06DJ"
      },
      "source": [
        ""
      ],
      "execution_count": null,
      "outputs": []
    }
  ]
}